{
 "cells": [
  {
   "cell_type": "code",
   "execution_count": 1,
   "id": "286b45dd",
   "metadata": {},
   "outputs": [
    {
     "name": "stderr",
     "output_type": "stream",
     "text": [
      "No config specified, defaulting to: emotion/split\n",
      "Found cached dataset emotion (/Users/rikigodani/.cache/huggingface/datasets/emotion/split/1.0.0/cca5efe2dfeb58c1d098e0f9eeb200e9927d889b5a03c67097275dfb5fe463bd)\n"
     ]
    },
    {
     "data": {
      "application/vnd.jupyter.widget-view+json": {
       "model_id": "6d65d971d4064fad8c7db4a408b87e55",
       "version_major": 2,
       "version_minor": 0
      },
      "text/plain": [
       "  0%|          | 0/3 [00:00<?, ?it/s]"
      ]
     },
     "metadata": {},
     "output_type": "display_data"
    },
    {
     "name": "stdout",
     "output_type": "stream",
     "text": [
      "Epoch 1/10\n"
     ]
    },
    {
     "name": "stderr",
     "output_type": "stream",
     "text": [
      "2024-05-05 15:53:50.848298: W tensorflow/tsl/platform/profile_utils/cpu_utils.cc:128] Failed to get CPU frequency: 0 Hz\n"
     ]
    },
    {
     "name": "stdout",
     "output_type": "stream",
     "text": [
      "200/200 [==============================] - 7s 27ms/step - loss: 1.5492 - accuracy: 0.3795 - val_loss: 1.3243 - val_accuracy: 0.5397\n",
      "Epoch 2/10\n",
      "200/200 [==============================] - 5s 25ms/step - loss: 1.0682 - accuracy: 0.6188 - val_loss: 0.9933 - val_accuracy: 0.6403\n",
      "Epoch 3/10\n",
      "200/200 [==============================] - 5s 25ms/step - loss: 0.7850 - accuracy: 0.7225 - val_loss: 0.8732 - val_accuracy: 0.6947\n",
      "Epoch 4/10\n",
      "200/200 [==============================] - 5s 26ms/step - loss: 0.5708 - accuracy: 0.8048 - val_loss: 0.7955 - val_accuracy: 0.7306\n",
      "Epoch 5/10\n",
      "200/200 [==============================] - 5s 26ms/step - loss: 0.3888 - accuracy: 0.8788 - val_loss: 0.6701 - val_accuracy: 0.7825\n",
      "Epoch 6/10\n",
      "200/200 [==============================] - 5s 26ms/step - loss: 0.2841 - accuracy: 0.9132 - val_loss: 0.6397 - val_accuracy: 0.7931\n",
      "Epoch 7/10\n",
      "200/200 [==============================] - 5s 26ms/step - loss: 0.2245 - accuracy: 0.9333 - val_loss: 0.6041 - val_accuracy: 0.8169\n",
      "Epoch 8/10\n",
      "200/200 [==============================] - 5s 25ms/step - loss: 0.1722 - accuracy: 0.9502 - val_loss: 0.5776 - val_accuracy: 0.8281\n",
      "Epoch 9/10\n",
      "200/200 [==============================] - 4s 22ms/step - loss: 0.1430 - accuracy: 0.9589 - val_loss: 0.6040 - val_accuracy: 0.8331\n",
      "Epoch 10/10\n",
      "200/200 [==============================] - 4s 22ms/step - loss: 0.1092 - accuracy: 0.9698 - val_loss: 0.6201 - val_accuracy: 0.8363\n"
     ]
    },
    {
     "data": {
      "text/plain": [
       "<keras.callbacks.History at 0x155c91450>"
      ]
     },
     "execution_count": 1,
     "metadata": {},
     "output_type": "execute_result"
    }
   ],
   "source": [
    "import numpy as np\n",
    "import tensorflow as tf\n",
    "from tensorflow import keras\n",
    "from datasets import load_dataset\n",
    "from sklearn.model_selection import train_test_split\n",
    "from tensorflow.keras.preprocessing.text import Tokenizer\n",
    "from tensorflow.keras.preprocessing.sequence import pad_sequences\n",
    "\n",
    "# Load the dataset\n",
    "dataset = load_dataset(\"emotion\")\n",
    "\n",
    "# Extracting features and labels\n",
    "texts = dataset['train']['text']\n",
    "labels = dataset['train']['label']\n",
    "\n",
    "# Tokenize the text\n",
    "max_words = 10000\n",
    "tokenizer = Tokenizer(num_words=max_words)\n",
    "tokenizer.fit_on_texts(texts)\n",
    "\n",
    "# Convert text to sequences\n",
    "sequences = tokenizer.texts_to_sequences(texts)\n",
    "\n",
    "# Pad sequences to ensure uniform length\n",
    "max_sequence_length = 100  # Adjust according to your data and requirements\n",
    "data = pad_sequences(sequences, maxlen=max_sequence_length)\n",
    "\n",
    "# Convert labels to one-hot encoding\n",
    "label_dict = {label: i for i, label in enumerate(set(labels))}\n",
    "num_classes = len(label_dict)\n",
    "labels = [label_dict[label] for label in labels]\n",
    "labels = tf.keras.utils.to_categorical(labels, num_classes)\n",
    "\n",
    "# Split data into training and validation sets\n",
    "X_train, X_val, y_train, y_val = train_test_split(data, labels, test_size=0.2, random_state=42)\n",
    "\n",
    "# Build LSTM model\n",
    "model = tf.keras.models.Sequential([\n",
    "    tf.keras.layers.Embedding(input_dim=10000, output_dim=16),  # Removed input_length\n",
    "    tf.keras.layers.Bidirectional(tf.keras.layers.LSTM(20, return_sequences=True)),\n",
    "    tf.keras.layers.Bidirectional(tf.keras.layers.LSTM(20)),\n",
    "    tf.keras.layers.Dense(6, activation='softmax')\n",
    "])\n",
    "\n",
    "model.compile(optimizer='adam', loss='categorical_crossentropy', metrics=['accuracy'])\n",
    "\n",
    "# Train the model\n",
    "model.fit(X_train, y_train, epochs=10, batch_size=64, validation_data=(X_val, y_val))\n"
   ]
  },
  {
   "cell_type": "code",
   "execution_count": null,
   "id": "007f6619",
   "metadata": {},
   "outputs": [],
   "source": [
    "import numpy as np\n",
    "import tensorflow as tf\n",
    "from tensorflow.keras.preprocessing.sequence import pad_sequences\n",
    "\n",
    "# Define a function for making predictions\n",
    "def predict_emotion(input_text):\n",
    "    # Preprocess the input text\n",
    "    sequence = tokenizer.texts_to_sequences([input_text])\n",
    "    padded_sequence = pad_sequences(sequence, maxlen=max_sequence_length)\n",
    "    \n",
    "    # Make prediction\n",
    "    prediction = model.predict(padded_sequence)\n",
    "    \n",
    "    # Decode the prediction\n",
    "    emotion_labels = ['joy', 'anger', 'love', 'sadness', 'fear', 'surprise']\n",
    "    predicted_label = emotion_labels[np.argmax(prediction)]\n",
    "    prediction_value = np.max(prediction)\n",
    "    \n",
    "    return predicted_label, prediction_value\n",
    "\n",
    "# Now, you can use this function to get predictions for any input text\n",
    "input_text = input(\"Enter a text: \")\n",
    "predicted_emotion, confidence = predict_emotion(input_text)\n",
    "print(\"Predicted Emotion:\", predicted_emotion)\n",
    "print(\"Confidence:\", confidence)\n"
   ]
  },
  {
   "cell_type": "code",
   "execution_count": null,
   "id": "9ef28d89",
   "metadata": {},
   "outputs": [],
   "source": []
  }
 ],
 "metadata": {
  "kernelspec": {
   "display_name": "Python 3 (ipykernel)",
   "language": "python",
   "name": "python3"
  },
  "language_info": {
   "codemirror_mode": {
    "name": "ipython",
    "version": 3
   },
   "file_extension": ".py",
   "mimetype": "text/x-python",
   "name": "python",
   "nbconvert_exporter": "python",
   "pygments_lexer": "ipython3",
   "version": "3.11.5"
  }
 },
 "nbformat": 4,
 "nbformat_minor": 5
}
